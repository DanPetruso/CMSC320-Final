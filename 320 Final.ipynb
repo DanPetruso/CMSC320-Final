{
 "cells": [
  {
   "cell_type": "markdown",
   "metadata": {},
   "source": [
    "# Analysis of Tournament Matches in Super Smash Bros. Melee\n",
    "Super Smash Bros. Melee is a child's party game released by Nintendo in 2001. It is a fighting game where players were able to choose from various Nintendo characters and stages to see who could be the last one standing on the stage. Due to the game's unique physics engine and mechanics, players were able to take Melee and turn it into one of the most complex and deep competative games in esports. We're still seeing players push the boundaries of how Melee can be played, even though the game itself has been out for 19 years now. Large scale tournaments, where players from beginners to professionals from around the world gathered for a prize pool, happened regularly before covid. Our goal is to analyze data from one of these major tournaments, specifically Pound 2019, which took place April 19-21st in Laurel, Maryland.\n",
    "\n",
    "Passionate community members have reverse engineered Melee's code to develop modifications for the game. One of these modifications, called Project Slippi, keeps track of data for two players when they play a match. This data includes most common attacks used in certain positions, most common attack used to kill the opponent, etc. We will be using data from 484 matches from Pound 2019 taken with Slippi.\n",
    "\n",
    "We chose to analyze data from Melee because we are both very passionate about the game and community and we chose Pound 2019 since we were there and competed in the event."
   ]
  },
  {
   "cell_type": "markdown",
   "metadata": {},
   "source": [
    "## How Melee is Played\n",
    "\n",
    "Melee has 29 total stages but only 6 were deemed \"fair\" enough for tournament play. In addition, tournament matches are one on one with both players having 4 stocks (or lives). The goal is to take your opponents four stocks before they take yours. The way this is done is by knocking your opponent off the stage to a point where they are unable to make it back, or by hitting the so hard they fly off the sides or top of the screen. In Melee, percent is taken when the player is hit. The more percent the player has, the further they will be knocked back from attacks. It's best to think of percent in Melee as the amount of damage the character has taken and not as actual percent. In tournaments, players will play either best 2 out of 3 matches, or best 3 out of 5 matches in order to progress through brackets."
   ]
  },
  {
   "cell_type": "markdown",
   "metadata": {},
   "source": [
    "# Average Openings Per Kill between Fox and Falco\n",
    "In Melee, the concept of \"neutral game\" is when neither player is at an inherit advantage from one another. This is when both players are looking for a way to hit one another in order to get a punish. \"Punish game\" is when one player lands that opening and begins to combo their opponent. The game is constantly changing between the neutral game and punish game as the match progresses. We want to se how many times a Fox player has to win the neutral game compared to how many times a Falco player has to win neutral for in order to get a kill on the other player. This is specific to the Fox v Falco matchup as different matchups can have widly different statistics due to character specific properties."
   ]
  },
  {
   "cell_type": "code",
   "execution_count": 79,
   "metadata": {},
   "outputs": [
    {
     "name": "stdout",
     "output_type": "stream",
     "text": [
      "Loaded 375 matches\n"
     ]
    }
   ],
   "source": [
    "import pandas as pd\n",
    "from pathlib import Path\n",
    "import json\n",
    "import matplotlib.pyplot as plt\n",
    "from collections import OrderedDict \n",
    "\n",
    "# Loading all game data\n",
    "files = Path(\"/home/mrmrmr/slippi-combo-extracter/output\").glob(\"FALCO-FOX/*.json\")\n",
    "list_of_dfs = []\n",
    "\n",
    "count = 0\n",
    "# Load FALCO-FOX matchups\n",
    "for file in files:\n",
    "    df = pd.read_json(file)\n",
    "    count += 1\n",
    "    list_of_dfs.append(df)\n",
    "\n",
    "print(\"Loaded \" + str(count) + \" matches\")"
   ]
  },
  {
   "cell_type": "code",
   "execution_count": 67,
   "metadata": {},
   "outputs": [
    {
     "name": "stdout",
     "output_type": "stream",
     "text": [
      "3.4330110497237567\n",
      "4.9604938271604935\n"
     ]
    },
    {
     "data": {
      "image/png": "[encoded data removed]",
      "text/plain": [
       "<Figure size 432x288 with 1 Axes>"
      ]
     },
     "metadata": {
      "needs_background": "light"
     },
     "output_type": "display_data"
    }
   ],
   "source": [
    "# Count the number of neutral openings\n",
    "openings_fox = 0\n",
    "openings_falco = 0\n",
    "kills_fox = 0\n",
    "kills_falco = 0\n",
    "\n",
    "def get_info(player1, player2):\n",
    "    return (player1[\"total_openings\"], player2[\"start_stocks\"] + player2[\"end_stocks\"], player1[\"char_name\"])\n",
    "\n",
    "for df in list_of_dfs:\n",
    "    p1 = get_info(df.players[0], df.players[1])\n",
    "    p2 = get_info(df.players[1], df.players[0])\n",
    "    \n",
    "    if p1[2] == \"FOX\":\n",
    "        openings_fox += p1[0]\n",
    "        kills_fox += p1[1]\n",
    "    elif p1[2] == \"FALCO\":\n",
    "        openings_falco += p1[0]\n",
    "        kills_falco += p1[1]\n",
    "    else:\n",
    "        print(\"wut\")\n",
    "        break\n",
    "\n",
    "fig = plt.figure()\n",
    "ax = fig.add_axes([0,0,1,1])\n",
    "labels = ['Fox mean openings/kill', 'Falco mean openings/kill']differnt character \n",
    "data = [openings_fox/kills_fox, openings_falco/kills_falco]\n",
    "print(openings_fox/kills_fox)\n",
    "print(openings_falco/kills_falco)\n",
    "ax.bar(labels,data)\n",
    "plt.show()"
   ]
  },
  {
   "cell_type": "code",
   "execution_count": 81,
   "metadata": {},
   "outputs": [],
   "source": [
    "# Compare the number of neutral openings per kill over different matchups\n",
    "openings_fox = 0\n",
    "openings_falco = 0\n",
    "kills_fox = 0\n",
    "kills_falco = 0\n",
    "\n",
    "fox_matches = {}\n",
    "falco_matches = {}\n",
    "\n",
    "# Load all matches files\n",
    "files = Path(\"/home/mrmrmr/slippi-combo-extracter/output\").glob(\"**/*.json\")\n",
    "\n",
    "\n",
    "def get_info(player1, player2):\n",
    "    return (player1[\"total_openings\"], player2[\"start_stocks\"] + player2[\"end_stocks\"], player1[\"char_name\"])\n",
    "\n",
    "for file in files:\n",
    "    df = pd.read_json(file)\n",
    "    p1 = get_info(df.players[0], df.players[1])\n",
    "    p2 = get_info(df.players[1], df.players[0])\n",
    "    \n",
    "    if p1[2] == \"FOX\":\n",
    "        if p2[2] not in fox_matches:\n",
    "            fox_matches[p2[2]] = {\"total_openings\": 0, \"kills\": 0}\n",
    "        fox_matches[p2[2]][\"total_openings\"] += p1[0]\n",
    "        fox_matches[p2[2]][\"kills\"] += p1[1]\n",
    "    elif p1[2] == \"FALCO\":\n",
    "        if p2[2] not in falco_matches:\n",
    "            falco_matches[p2[2]] = {\"total_openings\": 0, \"kills\": 0}\n",
    "        falco_matches[p2[2]][\"total_openings\"] += p1[0]\n",
    "        falco_matches[p2[2]][\"kills\"] += p1[1]  \n",
    "\n",
    "\n",
    "    if p2[2] == \"FOX\":\n",
    "        if p1[2] not in fox_matches:\n",
    "            fox_matches[p1[2]] = {\"total_openings\": 0, \"kills\": 0}\n",
    "        fox_matches[p1[2]][\"total_openings\"] += p2[0]\n",
    "        fox_matches[p1[2]][\"kills\"] += p2[1]\n",
    "    elif p2[2] == \"FALCO\":\n",
    "        if p1[2] not in falco_matches:\n",
    "            falco_matches[p1[2]] = {\"total_openings\": 0, \"kills\": 0}\n",
    "        falco_matches[p1[2]][\"total_openings\"] += p2[0]\n",
    "        falco_matches[p1[2]][\"kills\"] += p2[1]  "
   ]
  },
  {
   "cell_type": "code",
   "execution_count": 94,
   "metadata": {},
   "outputs": [
    {
     "data": {
      "image/png": "[encoded data removed]",
      "text/plain": [
       "<Figure size 432x288 with 1 Axes>"
      ]
     },
     "metadata": {
      "needs_background": "light"
     },
     "output_type": "display_data"
    },
    {
     "data": {
      "image/png": "[encoded data removed]",
      "text/plain": [
       "<Figure size 432x288 with 1 Axes>"
      ]
     },
     "metadata": {
      "needs_background": "light"
     },
     "output_type": "display_data"
    }
   ],
   "source": [
    "fox_matches = dict(OrderedDict(sorted(fox_matches.items())))\n",
    "falco_matches = dict(OrderedDict(sorted(falco_matches.items())))\n",
    "\n",
    "fig = plt.figure()\n",
    "ax = fig.add_axes([0,0,1,1])\n",
    "fox_data = [fox_matches[x][\"total_openings\"] / fox_matches[x][\"kills\"] for x in fox_matches.keys()]\n",
    "ax.bar(fox_matches.keys(),fox_data)\n",
    "plt.xticks(range(len(fox_matches.keys())), rotation='vertical')differnt character \n",
    "plt.title(\"Fox Neutral Openings\")\n",
    "\n",
    "plt.show()\n",
    "\n",
    "fig = plt.figure()\n",
    "ax = fig.add_axes([0,0,1,1])\n",
    "falco_data = [falco_matches[x][\"total_openings\"] / falco_matches[x][\"kills\"] for x in falco_matches.keys()]\n",
    "ax.bar(falco_matches.keys(),falco_data)\n",
    "plt.xticks(range(len(falco_matches.keys())), rotation='vertical')\n",
    "plt.title(\"Falco Neutral Openings\")\n",
    "\n",
    "plt.show()"
   ]
  },
  {
   "cell_type": "markdown",
   "metadata": {},
   "source": [
    "# Shield Pressure\n",
    "\n",
    "In Melee, it is possible to bring up a bubble like shield around your character. When you block an attack with your shield, your shield becomes smaller, leaving your more vulnerable to getting hit. In shield, each character has a set of options that they can do to punish the opponent for hitting their shield. Certain characters are good at what is called shield pressuring, the act of safely attacking your opponents shield to wittle it down and get a hit. The characters most well known for having good shield pressure are fox and falco, since they are the fastest characters in the game. Here, we will analyze shield data to see which characters do the most damage to their opponents shields.\n",
    "\n"
   ]
  },
  {
   "cell_type": "code",
   "execution_count": 1,
   "metadata": {},
   "outputs": [
    {
     "ename": "NameError",
     "evalue": "name 'Path' is not defined",
     "output_type": "error",
     "traceback": [
      "\u001b[0;31m---------------------------------------------------------------------------\u001b[0m",
      "\u001b[0;31mNameError\u001b[0m                                 Traceback (most recent call last)",
      "\u001b[0;32m<ipython-input-1-3bffbc388a05>\u001b[0m in \u001b[0;36m<module>\u001b[0;34m\u001b[0m\n\u001b[1;32m      4\u001b[0m \u001b[0;34m\u001b[0m\u001b[0m\n\u001b[1;32m      5\u001b[0m \u001b[0;31m# Load all matches files\u001b[0m\u001b[0;34m\u001b[0m\u001b[0;34m\u001b[0m\u001b[0;34m\u001b[0m\u001b[0m\n\u001b[0;32m----> 6\u001b[0;31m \u001b[0mfiles\u001b[0m \u001b[0;34m=\u001b[0m \u001b[0mPath\u001b[0m\u001b[0;34m(\u001b[0m\u001b[0;34m\"/home/mrmrmr/slippi-combo-extracter/output\"\u001b[0m\u001b[0;34m)\u001b[0m\u001b[0;34m.\u001b[0m\u001b[0mglob\u001b[0m\u001b[0;34m(\u001b[0m\u001b[0;34m\"**/*.json\"\u001b[0m\u001b[0;34m)\u001b[0m\u001b[0;34m\u001b[0m\u001b[0;34m\u001b[0m\u001b[0m\n\u001b[0m\u001b[1;32m      7\u001b[0m \u001b[0;34m\u001b[0m\u001b[0m\n\u001b[1;32m      8\u001b[0m \u001b[0;34m\u001b[0m\u001b[0m\n",
      "\u001b[0;31mNameError\u001b[0m: name 'Path' is not defined"
     ]
    }
   ],
   "source": [
    "# Store the number of matches and total shield damage by each character\n",
    "match_count = {}\n",
    "shield_count = {}\n",
    "\n",
    "# Load all matches files\n",
    "files = Path(\"/home/mrmrmr/slippi-combo-extracter/output\").glob(\"**/*.json\")\n",
    "\n",
    "\n",
    "def get_info(player1):\n",
    "    return (player1[\"total_shield_damage\"], player1[\"char_name\"])\n",
    "\n",
    "for file in files:\n",
    "    df = pd.read_json(file)\n",
    "    p1 = get_info(df.players[0])\n",
    "    p2 = get_info(df.players[1])\n",
    "    \n",
    "    if p2[1] not in match_count:\n",
    "        match_count[p2[1]] = 0\n",
    "        \n",
    "    if p2[1] not in shield_count:\n",
    "        shield_count[p2[1]] = 0\n",
    "    \n",
    "    if p1[1] not in match_count:\n",
    "        match_count[p1[1]] = 0\n",
    "        \n",
    "    if p1[1] not in shield_count:\n",
    "        shield_count[p1[1]] = 0\n",
    "    \n",
    "    shield_count[p2[1]] += p2[0]\n",
    "    match_count[p2[1]] += 1\n",
    "    shield_count[p1[1]] += p1[0]\n",
    "    match_count[p1[1]] += 1"
   ]
  },
  {
   "cell_type": "markdown",
   "metadata": {},
   "source": [
    "# Average Kill Percent Each Character / Spread\n",
    "\n",
    "The goal of building percent on your opponent is to make it easier to take their stock by hitting them off the stage. The amount of percent doesn't matter when a player is offstage, they will still lose the stock once off screen. That being said, each character has a range in percent that they are usually killed at. Different characters have different aspects of them that make them die earlier or live longer than other characters such as fall speed, weight, and recovery options. Here, we want to analyze kill percents for each character."
   ]
  },
  {
   "cell_type": "markdown",
   "metadata": {},
   "source": [
    "# Average GALINT\n",
    "\n",
    "When the player grabs the ledge of the stage, they are given 30 frames (or half a second) of invulnerability. By performing a technique known as a ledge dash, you are able to quickly let go of ledge and get on the stage. The term GALINT stands for grounded action ledge intangibility. We want to see the average GALINT for the characters that most commonly ledgedash."
   ]
  },
  {
   "cell_type": "code",
   "execution_count": null,
   "metadata": {},
   "outputs": [],
   "source": []
  },
  {
   "cell_type": "markdown",
   "metadata": {},
   "source": []
  }
 ],
 "metadata": {
  "kernelspec": {
   "display_name": "Python 3",
   "language": "python",
   "name": "python3"
  },
  "language_info": {
   "codemirror_mode": {
    "name": "ipython",
    "version": 3
   },
   "file_extension": ".py",
   "mimetype": "text/x-python",
   "name": "python",
   "nbconvert_exporter": "python",
   "pygments_lexer": "ipython3",
   "version": "3.8.6"
  }
 },
 "nbformat": 4,
 "nbformat_minor": 4
}
